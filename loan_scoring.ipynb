{
 "cells": [
  {
   "cell_type": "code",
   "execution_count": 1,
   "id": "f4e3fdf1",
   "metadata": {},
   "outputs": [],
   "source": [
    "import os\n",
    "import pandas as pd\n",
    "import numpy as np\n",
    "import matplotlib.pyplot as plt\n",
    "import seaborn as sns\n",
    "import warnings\n",
    "from catboost import CatBoostClassifier\n",
    "import lightgbm as lgb\n",
    "from sklearn.metrics import roc_auc_score\n",
    "from imblearn.over_sampling import RandomOverSampler\n",
    "from sklearn.compose import make_column_selector as selector\n",
    "from sklearn.compose import ColumnTransformer\n",
    "from sklearn.preprocessing import MinMaxScaler, OneHotEncoder\n",
    "from sklearn.model_selection import RandomizedSearchCV, train_test_split, StratifiedKFold\n",
    "from sklearn.pipeline import Pipeline\n",
    "from imblearn.pipeline import Pipeline as imb_Pipeline\n",
    "import functions as F"
   ]
  },
  {
   "cell_type": "markdown",
   "id": "7112f74c",
   "metadata": {},
   "source": [
    "## Load dataset"
   ]
  },
  {
   "cell_type": "code",
   "execution_count": 2,
   "id": "bb081683",
   "metadata": {},
   "outputs": [],
   "source": [
    "aave_loan_balance = pd.read_csv('./data/aave_loan_balance.csv')\n",
    "application_previous = pd.read_csv('./data/application_previous.csv')\n",
    "defi_credits = pd.read_csv('./data/defi_credits.csv')\n",
    "defi_credits_balance = pd.read_csv('./data/defi_credits_balance.csv')\n",
    "loan_application = pd.read_csv('./data/loan_application.csv')\n",
    "payments_history = pd.read_csv('./data/payments_history.csv')"
   ]
  },
  {
   "cell_type": "code",
   "execution_count": 3,
   "id": "d8d0a259",
   "metadata": {},
   "outputs": [],
   "source": [
    "lst = [aave_loan_balance, application_previous, defi_credits, defi_credits_balance, loan_application, payments_history]"
   ]
  },
  {
   "cell_type": "markdown",
   "id": "2c3a542e",
   "metadata": {},
   "source": [
    "## EDA"
   ]
  },
  {
   "cell_type": "markdown",
   "id": "6d9b55bc",
   "metadata": {},
   "source": [
    "#### primary_key"
   ]
  },
  {
   "cell_type": "code",
   "execution_count": 4,
   "id": "86882f0d",
   "metadata": {},
   "outputs": [
    {
     "name": "stdout",
     "output_type": "stream",
     "text": [
      "0th table\tpk is not found\n",
      "1th table\tprimary_key: application_id_previous\n",
      "2th table\tprimary_key: defi_id\n",
      "3th table\tpk is not found\n",
      "4th table\tprimary_key: application_id_current\n",
      "5th table\tpk is not found\n"
     ]
    }
   ],
   "source": [
    "for i, data in enumerate(lst):\n",
    "    print(f'{i}th table', end='\\t')\n",
    "    F.has_pk(data)"
   ]
  },
  {
   "cell_type": "markdown",
   "id": "a2af5a4a",
   "metadata": {},
   "source": [
    "#### null"
   ]
  },
  {
   "cell_type": "code",
   "execution_count": 5,
   "id": "ca694aca",
   "metadata": {},
   "outputs": [
    {
     "data": {
      "image/png": "[encoded data removed]",
      "text/plain": [
       "<Figure size 1080x360 with 6 Axes>"
      ]
     },
     "metadata": {
      "needs_background": "light"
     },
     "output_type": "display_data"
    }
   ],
   "source": [
    "fig, axes = plt.subplots(1, 6, figsize=(15, 5))\n",
    "\n",
    "for i, data in enumerate(lst):\n",
    "    sns.histplot(F.check_null_status(data), ax=axes[i], stat='probability')"
   ]
  },
  {
   "cell_type": "markdown",
   "id": "57fdd389",
   "metadata": {},
   "source": [
    "## Data preparation"
   ]
  },
  {
   "cell_type": "markdown",
   "id": "915bf172",
   "metadata": {},
   "source": [
    "#### loan_application (1/6)"
   ]
  },
  {
   "cell_type": "code",
   "execution_count": 6,
   "id": "a457432d",
   "metadata": {},
   "outputs": [],
   "source": [
    "loan_application.set_index('application_id_current', inplace=True)"
   ]
  },
  {
   "cell_type": "code",
   "execution_count": 7,
   "id": "79fe4834",
   "metadata": {},
   "outputs": [],
   "source": [
    "prep_loan_application = loan_application.copy()\n",
    "categorical_features = F.search_categoric(loan_application)\n",
    "\n",
    "for col in categorical_features:\n",
    "    prep_loan_application[col] = prep_loan_application[col].astype('object')"
   ]
  },
  {
   "cell_type": "markdown",
   "id": "92ae0d37",
   "metadata": {},
   "source": [
    "#### defi_credits (2/6) & defi_credits_balance (3/6)"
   ]
  },
  {
   "cell_type": "code",
   "execution_count": 8,
   "id": "afc323a7",
   "metadata": {},
   "outputs": [],
   "source": [
    "temp = pd.pivot_table(data=defi_credits_balance,\n",
    "                      index='defi_id',\n",
    "                      columns='months_balance',\n",
    "                      values='status')"
   ]
  },
  {
   "cell_type": "code",
   "execution_count": 9,
   "id": "2b1a6a64",
   "metadata": {},
   "outputs": [],
   "source": [
    "prep_defi_credits_balance = temp.apply(np.nanmean, axis=1)\n",
    "prep_defi_credits_balance.name = 'mean_balance'"
   ]
  },
  {
   "cell_type": "code",
   "execution_count": 10,
   "id": "a79a015e",
   "metadata": {},
   "outputs": [],
   "source": [
    "defi_merged = pd.merge(defi_credits, \n",
    "                       prep_defi_credits_balance, \n",
    "                       how='left', \n",
    "                       left_on='defi_id', \n",
    "                       right_index=True)"
   ]
  },
  {
   "cell_type": "code",
   "execution_count": 11,
   "id": "ef616dc8",
   "metadata": {},
   "outputs": [],
   "source": [
    "prep_defi = F.aggregate(defi_merged, \n",
    "                        primary_key=['application_id_current'],\n",
    "                        drop_cols=['defi_id'])"
   ]
  },
  {
   "cell_type": "markdown",
   "id": "48d49ffe",
   "metadata": {},
   "source": [
    "#### aave_loan_balance (4/6)"
   ]
  },
  {
   "cell_type": "code",
   "execution_count": 12,
   "id": "93de7197",
   "metadata": {},
   "outputs": [],
   "source": [
    "prep_aave_loan_balance = F.aggregate(aave_loan_balance,\n",
    "                                     primary_key=['application_id_current'],\n",
    "                                     drop_cols=['application_id_previous'])"
   ]
  },
  {
   "cell_type": "markdown",
   "id": "86728456",
   "metadata": {},
   "source": [
    "#### application_previous (5/6)"
   ]
  },
  {
   "cell_type": "code",
   "execution_count": 13,
   "id": "942e0c25",
   "metadata": {},
   "outputs": [],
   "source": [
    "application_previous = pd.read_csv('./data/application_previous.csv')"
   ]
  },
  {
   "cell_type": "code",
   "execution_count": 14,
   "id": "b0f9fb32",
   "metadata": {},
   "outputs": [],
   "source": [
    "categorical_features = F.search_categoric(application_previous, cardinality_limit=10)\n",
    "\n",
    "for col in categorical_features:\n",
    "    application_previous[col] = application_previous[col].astype('object')"
   ]
  },
  {
   "cell_type": "code",
   "execution_count": 15,
   "id": "f1e38617",
   "metadata": {},
   "outputs": [],
   "source": [
    "prep_application_previous = F.aggregate(application_previous,\n",
    "                                        primary_key=['application_id_current'],\n",
    "                                        drop_cols=['application_id_previous'])"
   ]
  },
  {
   "cell_type": "markdown",
   "id": "cdf32945",
   "metadata": {},
   "source": [
    "#### payments_history (6/6)"
   ]
  },
  {
   "cell_type": "code",
   "execution_count": 16,
   "id": "b2085374",
   "metadata": {},
   "outputs": [],
   "source": [
    "payments_history['days_diff'] = payments_history['days_entry_payment'] - payments_history['days_instalment']"
   ]
  },
  {
   "cell_type": "code",
   "execution_count": 17,
   "id": "d63e6482",
   "metadata": {},
   "outputs": [],
   "source": [
    "prep_payments_history = F.aggregate(payments_history,\n",
    "                                    primary_key=['application_id_current'],\n",
    "                                    drop_cols=['application_id_previous'])"
   ]
  },
  {
   "cell_type": "markdown",
   "id": "e4cf4eb3",
   "metadata": {},
   "source": [
    "## Merge datasets"
   ]
  },
  {
   "cell_type": "code",
   "execution_count": 18,
   "id": "3b36b3e9",
   "metadata": {},
   "outputs": [
    {
     "name": "stdout",
     "output_type": "stream",
     "text": [
      "0 th table index : application_id_current\n",
      "1 th table index : application_id_current\n",
      "2 th table index : application_id_current\n",
      "3 th table index : application_id_current\n",
      "4 th table index : application_id_current\n"
     ]
    }
   ],
   "source": [
    "preprocessed = [prep_loan_application, prep_aave_loan_balance, prep_application_previous, prep_defi, prep_payments_history]\n",
    "\n",
    "for i, table in enumerate(preprocessed):\n",
    "    print(f'{i} th table index : {table.index.name}')\n",
    "    if i == 0:\n",
    "        merged = prep_loan_application.copy()\n",
    "    else:\n",
    "        merged = pd.merge(merged, table, how='left', left_index=True, right_index=True)"
   ]
  },
  {
   "cell_type": "markdown",
   "id": "bd0fec2d",
   "metadata": {},
   "source": [
    "## Split"
   ]
  },
  {
   "cell_type": "code",
   "execution_count": 19,
   "id": "48c56b90",
   "metadata": {},
   "outputs": [],
   "source": [
    "cond = merged.type == 1\n",
    "train_val = merged.loc[cond]\n",
    "test = merged.loc[~cond]\n",
    "\n",
    "X = train_val.drop('target', axis=1)\n",
    "y = train_val.target.astype(str)"
   ]
  },
  {
   "cell_type": "markdown",
   "id": "18aa5490",
   "metadata": {},
   "source": [
    "## Define a pipeline"
   ]
  },
  {
   "cell_type": "code",
   "execution_count": 20,
   "id": "3a7fd2ca",
   "metadata": {},
   "outputs": [],
   "source": [
    "numeric_transformer = MinMaxScaler()\n",
    "categorical_transformer = OneHotEncoder(handle_unknown='ignore')\n",
    "\n",
    "preprocessor = ColumnTransformer(\n",
    "    transformers=[\n",
    "        ('num', numeric_transformer, selector(dtype_exclude=\"object\")),\n",
    "        ('cat', categorical_transformer, selector(dtype_include=\"object\"))\n",
    "    ])"
   ]
  },
  {
   "cell_type": "code",
   "execution_count": 21,
   "id": "8b6de99c",
   "metadata": {},
   "outputs": [],
   "source": [
    "model = lgb.LGBMClassifier(n_estimators=100)"
   ]
  },
  {
   "cell_type": "code",
   "execution_count": 22,
   "id": "bf72a6e9",
   "metadata": {},
   "outputs": [],
   "source": [
    "clf = Pipeline(steps=[('preprocessor', preprocessor),\n",
    "                      ('classifier', model)])"
   ]
  },
  {
   "cell_type": "code",
   "execution_count": 23,
   "id": "f13edfe7",
   "metadata": {},
   "outputs": [],
   "source": [
    "params = {'classifier__learning_rate': [0.01, 0.05, 0.1],\n",
    "          'classifier__num_leaves': [3, 6, 9],\n",
    "          'classifier__reg_alpha': [1e-1, 1, 10]\n",
    "         }"
   ]
  },
  {
   "cell_type": "markdown",
   "id": "c13958d3",
   "metadata": {},
   "source": [
    "## Hyperparameter tuning"
   ]
  },
  {
   "cell_type": "code",
   "execution_count": 24,
   "id": "42468450",
   "metadata": {},
   "outputs": [],
   "source": [
    "tuner = RandomizedSearchCV(\n",
    "    estimator=clf,\n",
    "    param_distributions=params,\n",
    "    n_iter=3,\n",
    "    scoring='roc_auc',\n",
    "    cv=3,\n",
    "    refit=True,\n",
    "    verbose=True,\n",
    "    n_jobs=-1\n",
    ")"
   ]
  },
  {
   "cell_type": "code",
   "execution_count": 25,
   "id": "62801770",
   "metadata": {},
   "outputs": [
    {
     "name": "stdout",
     "output_type": "stream",
     "text": [
      "Fitting 3 folds for each of 3 candidates, totalling 9 fits\n"
     ]
    },
    {
     "data": {
      "text/plain": [
       "RandomizedSearchCV(cv=3,\n",
       "                   estimator=Pipeline(steps=[('preprocessor',\n",
       "                                              ColumnTransformer(transformers=[('num',\n",
       "                                                                               MinMaxScaler(),\n",
       "                                                                               <sklearn.compose._column_transformer.make_column_selector object at 0x00000217A87319A0>),\n",
       "                                                                              ('cat',\n",
       "                                                                               OneHotEncoder(handle_unknown='ignore'),\n",
       "                                                                               <sklearn.compose._column_transformer.make_column_selector object at 0x00000217A6A73790>)])),\n",
       "                                             ('classifier', LGBMClassifier())]),\n",
       "                   n_iter=3, n_jobs=-1,\n",
       "                   param_distributions={'classifier__learning_rate': [0.01,\n",
       "                                                                      0.05,\n",
       "                                                                      0.1],\n",
       "                                        'classifier__num_leaves': [3, 6, 9],\n",
       "                                        'classifier__reg_alpha': [0.1, 1, 10]},\n",
       "                   scoring='roc_auc', verbose=True)"
      ]
     },
     "execution_count": 25,
     "metadata": {},
     "output_type": "execute_result"
    }
   ],
   "source": [
    "tuner.fit(X, y)"
   ]
  },
  {
   "cell_type": "code",
   "execution_count": 30,
   "id": "ea4deb17",
   "metadata": {},
   "outputs": [
    {
     "name": "stdout",
     "output_type": "stream",
     "text": [
      "Best auroc: 0.7668\n"
     ]
    }
   ],
   "source": [
    "print(f'Best auroc: {tuner.best_score_:.4f}')"
   ]
  },
  {
   "cell_type": "markdown",
   "id": "c44929bc",
   "metadata": {},
   "source": [
    "## Prediction"
   ]
  },
  {
   "cell_type": "code",
   "execution_count": 31,
   "id": "da7b72d4",
   "metadata": {},
   "outputs": [],
   "source": [
    "result = pd.Series(\n",
    "    tuner.predict_proba(test.drop('target', axis=1))[:, 1],\n",
    "    name='target',\n",
    "    index=test.index)"
   ]
  },
  {
   "cell_type": "code",
   "execution_count": 32,
   "id": "392dc769",
   "metadata": {},
   "outputs": [],
   "source": [
    "result.to_csv('./Result.csv')"
   ]
  }
 ],
 "metadata": {
  "kernelspec": {
   "display_name": "Python 3",
   "language": "python",
   "name": "python3"
  },
  "language_info": {
   "codemirror_mode": {
    "name": "ipython",
    "version": 3
   },
   "file_extension": ".py",
   "mimetype": "text/x-python",
   "name": "python",
   "nbconvert_exporter": "python",
   "pygments_lexer": "ipython3",
   "version": "3.8.8"
  }
 },
 "nbformat": 4,
 "nbformat_minor": 5
}
